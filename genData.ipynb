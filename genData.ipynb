{
 "cells": [
  {
   "cell_type": "code",
   "execution_count": 13,
   "metadata": {},
   "outputs": [],
   "source": [
    "import pandas as pd\n",
    "import numpy as np\n",
    "\n",
    "\n",
    "def generate_shape_data(filename, duration=10, fps=30, yaw_noise=0.5, pitch_noise=1.0):\n",
    "    # Total number of frames\n",
    "    num_frames = duration * fps\n",
    "    \n",
    "    # Time array\n",
    "    t = np.linspace(0, duration, num_frames)\n",
    "\n",
    "    # Generate circular motion for yaw (azimuthal angle) with small amplitude and noise\n",
    "    yaw_amplitude = 3  # Adjust this value for desired yaw movement range (degrees)\n",
    "    yaw_noise_scale = yaw_noise  # Adjust for desired randomness in yaw (degrees)\n",
    "    yaw = 90 + yaw_amplitude * np.sin(2 * np.pi * t) + yaw_noise_scale * np.random.randn(num_frames)  # Circular motion with random noise\n",
    "\n",
    "    # Generate sinusoidal motion for pitch (elevation angle) with small amplitude and noise\n",
    "    pitch_amplitude = 5  # Adjust this value for desired pitch movement range (degrees)\n",
    "    pitch_noise_scale = pitch_noise  # Adjust for desired randomness in pitch (degrees)\n",
    "    pitch = -80 + pitch_amplitude * np.cos(4 * np.pi * t) + pitch_noise_scale * np.random.randn(num_frames)  # Sinusoidal with random noise\n",
    "\n",
    "    # Create DataFrame\n",
    "    df = pd.DataFrame({\n",
    "        'yaw': yaw,\n",
    "        'pitch': pitch\n",
    "    })\n",
    "\n",
    "    # Save to CSV\n",
    "    df.to_csv(filename, index=False)\n",
    "\n",
    "# Usage (Optional adjustments)\n",
    "generate_shape_data('angles.csv', yaw_noise=0.2, pitch_noise=0.5)  # Example with lower noise levels\n"
   ]
  }
 ],
 "metadata": {
  "kernelspec": {
   "display_name": ".venv",
   "language": "python",
   "name": "python3"
  },
  "language_info": {
   "codemirror_mode": {
    "name": "ipython",
    "version": 3
   },
   "file_extension": ".py",
   "mimetype": "text/x-python",
   "name": "python",
   "nbconvert_exporter": "python",
   "pygments_lexer": "ipython3",
   "version": "3.10.12"
  }
 },
 "nbformat": 4,
 "nbformat_minor": 2
}
