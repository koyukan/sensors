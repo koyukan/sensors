{
 "cells": [
  {
   "cell_type": "code",
   "execution_count": 28,
   "metadata": {},
   "outputs": [
    {
     "name": "stderr",
     "output_type": "stream",
     "text": [
      "/media/anayurt/Backup/gun/.venv/lib/python3.10/site-packages/matplotlib/animation.py:892: UserWarning: Animation was deleted without rendering anything. This is most likely not intended. To prevent deletion, assign the Animation to a variable, e.g. `anim`, that exists until you output the Animation using `plt.show()` or `anim.save()`.\n",
      "  warnings.warn(\n"
     ]
    }
   ],
   "source": [
    "import pandas as pd\n",
    "import matplotlib.pyplot as plt\n",
    "from matplotlib.animation import FuncAnimation\n",
    "import math\n",
    "\n",
    "# Ensure correct display backend\n",
    "plt.switch_backend('TkAgg')\n",
    "\n",
    "def calculate_laser_intersection(yaw, pitch):\n",
    "    yaw_rad = math.radians(yaw)\n",
    "    pitch_rad = math.radians(pitch)\n",
    "    \n",
    "    dx = math.cos(pitch_rad) * math.sin(yaw_rad)\n",
    "    dy = math.cos(pitch_rad) * math.cos(yaw_rad)\n",
    "    dz = -math.sin(pitch_rad)\n",
    "    \n",
    "    if dz == 0:\n",
    "        return None\n",
    "    \n",
    "    t = -5 / dz\n",
    "    x = t * dx\n",
    "    y = t * dy\n",
    "    return (x, y)\n",
    "\n",
    "# Global lists to accumulate points\n",
    "x_data, y_data = [], []\n",
    "\n",
    "def animate(i):\n",
    "    point = calculate_laser_intersection(data['yaw'][i], data['pitch'][i])\n",
    "    if point is not None:\n",
    "        x_data.append(point[0])\n",
    "        y_data.append(point[1])\n",
    "        line.set_data(x_data, y_data)\n",
    "    return line,\n",
    "\n",
    "# Load data from CSV\n",
    "data = pd.read_csv('angles.csv')\n",
    "\n",
    "# Calculate dynamic plot limits\n",
    "x_vals = [calculate_laser_intersection(yaw, pitch)[0] for yaw, pitch in zip(data['yaw'], data['pitch']) if calculate_laser_intersection(yaw, pitch) is not None]\n",
    "y_vals = [calculate_laser_intersection(yaw, pitch)[1] for yaw, pitch in zip(data['yaw'], data['pitch']) if calculate_laser_intersection(yaw, pitch) is not None]\n",
    "x_lim = (min(x_vals), max(x_vals))\n",
    "y_lim = (min(y_vals), max(y_vals))\n",
    "\n",
    "# Initialize plot\n",
    "fig, ax = plt.subplots()\n",
    "ax.set_xlim(x_lim)\n",
    "ax.set_ylim(y_lim)\n",
    "line, = ax.plot([], [], 'ro-', markersize=2)\n",
    "\n",
    "# Create animation\n",
    "ani = FuncAnimation(fig, animate, frames=len(data), interval=285.7, blit=False, repeat=False)\n",
    "\n",
    "plt.show()\n"
   ]
  },
  {
   "cell_type": "markdown",
   "metadata": {},
   "source": []
  }
 ],
 "metadata": {
  "kernelspec": {
   "display_name": ".venv",
   "language": "python",
   "name": "python3"
  },
  "language_info": {
   "codemirror_mode": {
    "name": "ipython",
    "version": 3
   },
   "file_extension": ".py",
   "mimetype": "text/x-python",
   "name": "python",
   "nbconvert_exporter": "python",
   "pygments_lexer": "ipython3",
   "version": "3.10.12"
  }
 },
 "nbformat": 4,
 "nbformat_minor": 2
}
